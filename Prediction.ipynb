{
  "nbformat": 4,
  "nbformat_minor": 0,
  "metadata": {
    "colab": {
      "name": "Prediction.ipynb",
      "provenance": []
    },
    "kernelspec": {
      "name": "python3",
      "display_name": "Python 3"
    }
  },
  "cells": [
    {
      "cell_type": "code",
      "metadata": {
        "id": "87BmqhTR4Fv5"
      },
      "source": [
        "import pandas as pd\n",
        "import numpy as np\n",
        "\n",
        "url = \"https://s3.us-west-2.amazonaws.com/public.gamelab.fun/dataset/salary_data.csv\"\n",
        "data = pd.read_csv(url)\n",
        "\n",
        "x = data.iloc[:,:-1]   #cE\n",
        "y = data.iloc[:,1]\n",
        "\n"
      ],
      "execution_count": null,
      "outputs": []
    },
    {
      "cell_type": "code",
      "metadata": {
        "id": "PA1RGj885bnS",
        "colab": {
          "base_uri": "https://localhost:8080/",
          "height": 493
        },
        "outputId": "43b6b3a0-6212-4225-b6a7-97ee0d603148"
      },
      "source": [
        "from sklearn.model_selection import train_test_split #CE\n",
        "[xtrain, xtest, ytrain, ytest] = train_test_split(x,y,train_size=0.9)\n",
        "\n",
        "print(xtrain )"
      ],
      "execution_count": null,
      "outputs": [
        {
          "output_type": "stream",
          "text": [
            "    YearsExperience\n",
            "16              5.1\n",
            "12              4.0\n",
            "21              7.1\n",
            "29             10.5\n",
            "25              9.0\n",
            "7               3.2\n",
            "8               3.2\n",
            "4               2.2\n",
            "28             10.3\n",
            "27              9.6\n",
            "14              4.5\n",
            "2               1.5\n",
            "1               1.3\n",
            "26              9.5\n",
            "17              5.3\n",
            "18              5.9\n",
            "5               2.9\n",
            "19              6.0\n",
            "0               1.1\n",
            "11              4.0\n",
            "3               2.0\n",
            "10              3.9\n",
            "20              6.8\n",
            "13              4.1\n",
            "22              7.9\n",
            "9               3.7\n",
            "6               3.0\n"
          ],
          "name": "stdout"
        }
      ]
    },
    {
      "cell_type": "code",
      "metadata": {
        "id": "diIm5trj65h-",
        "colab": {
          "base_uri": "https://localhost:8080/",
          "height": 34
        },
        "outputId": "0a67dbce-7fc1-4228-b56d-acf0b97d614a"
      },
      "source": [
        "from sklearn.linear_model import LinearRegression\n",
        "model = LinearRegression()\n",
        "model.fit(xtrain,ytrain)\n"
      ],
      "execution_count": null,
      "outputs": [
        {
          "output_type": "execute_result",
          "data": {
            "text/plain": [
              "LinearRegression(copy_X=True, fit_intercept=True, n_jobs=None, normalize=False)"
            ]
          },
          "metadata": {
            "tags": []
          },
          "execution_count": 3
        }
      ]
    },
    {
      "cell_type": "code",
      "metadata": {
        "id": "Dt_hqrmw8eKL",
        "colab": {
          "base_uri": "https://localhost:8080/",
          "height": 34
        },
        "outputId": "9fc891b8-fe04-4cba-d021-c0f7ea941000"
      },
      "source": [
        "model.predict(np.array([10]).reshape(1,1))"
      ],
      "execution_count": null,
      "outputs": [
        {
          "output_type": "execute_result",
          "data": {
            "text/plain": [
              "array([119110.85645703])"
            ]
          },
          "metadata": {
            "tags": []
          },
          "execution_count": 4
        }
      ]
    },
    {
      "cell_type": "code",
      "metadata": {
        "id": "0LSpcLIe9trK"
      },
      "source": [
        ""
      ],
      "execution_count": null,
      "outputs": []
    }
  ]
}